{
 "cells": [
  {
   "cell_type": "code",
   "execution_count": 8,
   "id": "ec80e610",
   "metadata": {},
   "outputs": [],
   "source": [
    "#import packages\n",
    "import pandas as pd\n",
    "import numpy as np\n",
    "import matplotlib.pyplot as plt\n",
    "\n",
    "#for Audio processing\n",
    "from IPython.display import Audio\n",
    "import librosa\n",
    "import librosa.display\n",
    "\n",
    "import joblib\n",
    "\n",
    "from sklearn.metrics import confusion_matrix, classification_report\n",
    "\n",
    "import soundfile as sf\n",
    "import io\n",
    "from six.moves.urllib.request import urlopen\n",
    "\n"
   ]
  },
  {
   "cell_type": "code",
   "execution_count": 2,
   "id": "d140bc95",
   "metadata": {},
   "outputs": [],
   "source": [
    "#this is to ignore the warnings\n",
    "import warnings\n",
    "warnings.filterwarnings(\"ignore\")"
   ]
  },
  {
   "cell_type": "code",
   "execution_count": 27,
   "id": "b9dbdd76",
   "metadata": {},
   "outputs": [],
   "source": [
    "def play_librosa(wav_file, source='None'):\n",
    "    \n",
    "    print(\"WAV: \", wav_file)\n",
    "    \n",
    "    audio, sfreq = sf.read(io.BytesIO(urlopen(url).read()))\n",
    "    \n",
    "    time = np.arange(0, len(audio)) / sfreq\n",
    "\n",
    "    print('Sample Rate:', sfreq)\n",
    "    \n",
    "    fig, ax = plt.subplots()\n",
    "    ax.plot(time, audio)\n",
    "    ax.set(xlabel='Time (sec)',  ylabel='Sound Amplitude')\n",
    "\n",
    "    Audio(data=audio, rate=sfreq)\n",
    "    \n",
    "    return audio, sfreq"
   ]
  },
  {
   "cell_type": "markdown",
   "id": "39fa0e98",
   "metadata": {},
   "source": [
    "## Extract feature"
   ]
  },
  {
   "cell_type": "code",
   "execution_count": 4,
   "id": "bc3de02a",
   "metadata": {},
   "outputs": [],
   "source": [
    "def librosa_features(data, sample_rate):\n",
    "    \n",
    "    '''this will create an array of some librosa features\n",
    "    (e.g. zero_crossing_rate, root mean square energy, spectral centroid and rollfoof,\n",
    "        chroma_stft, mfcc, rms, melspectrogram)\n",
    "    concatenated for each audio'''\n",
    "    \n",
    "    \n",
    "    result = np.array([])\n",
    "    \n",
    "   \n",
    "    # Root Mean Square Value (one column, the average )\n",
    "    rms = np.mean(librosa.feature.rms(y=data).T, axis=0)\n",
    "    result = np.hstack((result, rms)) # add as column \n",
    "    \n",
    "     # Spectral Centroid (one column, the average )\n",
    "    spectral_centroid = np.mean(librosa.feature.spectral_centroid(y=data, sr=sample_rate).T, axis=0)\n",
    "    result = np.hstack((result, spectral_centroid)) # stacking horizontally\n",
    "    \n",
    "        \n",
    "     # Spectral Rolloff (one column, the average )\n",
    "    spectral_rolloff = np.mean(librosa.feature.spectral_rolloff(y=data, sr=sample_rate).T, axis=0)\n",
    "    result = np.hstack((result, spectral_rolloff)) # add as column \n",
    "    \n",
    "        \n",
    "    \n",
    "    # Zero Crossing Rate (one column, the average )\n",
    "    zcr = np.mean(librosa.feature.zero_crossing_rate(y=data).T, axis=0)\n",
    "    result=np.hstack((result, zcr)) # add as column \n",
    "    \n",
    "\n",
    "    \n",
    "    # Chroma_stft (12 columns)\n",
    "    stft = np.abs(librosa.stft(data))\n",
    "    chroma_stft = np.mean(librosa.feature.chroma_stft(S=stft, sr=sample_rate).T, axis=0)\n",
    "    result = np.hstack((result, chroma_stft)) # stacking horizontally\n",
    "\n",
    "    \n",
    "    # MFCC  (40 columns)\n",
    "    mfcc = np.mean(librosa.feature.mfcc(y=data, sr=sample_rate, n_mfcc=40).T, axis=0)\n",
    "    result = np.hstack((result, mfcc)) # stacking horizontally\n",
    "      \n",
    "    \n",
    "    # MelSpectogram (128 columns)\n",
    "    mel = np.mean(librosa.feature.melspectrogram(y=data, sr=sample_rate, n_fft=2048, hop_length=512, n_mels=128).T, axis=0)\n",
    "    result = np.hstack((result, mel)) # stacking horizontally\n",
    "    \n",
    "    return result\n",
    "\n",
    "def get_basic_features(audio, sfreq):\n",
    "    ''' get librosa features only for the test dataset '''\n",
    "        \n",
    "    #Trim leading and trailing silence from an audio signal.\n",
    "    yt, index = librosa.effects.trim(audio)\n",
    "    \n",
    "    \n",
    "    #librosa features\n",
    "    res1 = librosa_features(yt, sfreq)\n",
    "\n",
    "    return res1"
   ]
  },
  {
   "cell_type": "markdown",
   "id": "da013ca8",
   "metadata": {},
   "source": [
    "## Load our model"
   ]
  },
  {
   "cell_type": "code",
   "execution_count": 5,
   "id": "ed3e4069",
   "metadata": {},
   "outputs": [],
   "source": [
    "loaded_model = joblib.load(\"./model/vote_model.bin\")\n",
    "sc = joblib.load('./model/vote_scaler.bin')\n",
    "le = joblib.load('./model/vote_le.bin')"
   ]
  },
  {
   "cell_type": "code",
   "execution_count": 29,
   "id": "d0bd318f",
   "metadata": {},
   "outputs": [],
   "source": [
    "def predict(audio, sfreq):\n",
    "    \n",
    "    \n",
    "    librosa_X = []\n",
    "    librosa_X.append(get_basic_features(audio, sfreq))\n",
    "    df_feature = pd.DataFrame(librosa_X)\n",
    "\n",
    "    #scale\n",
    "    x_scaled = sc.transform(pd.DataFrame(df_feature))\n",
    "    \n",
    "    #predict\n",
    "    y_pred = loaded_model.predict(x_scaled)\n",
    "    \n",
    "    #return the prediction\n",
    "    return le.inverse_transform(y_pred)"
   ]
  },
  {
   "cell_type": "code",
   "execution_count": 20,
   "id": "6776267d",
   "metadata": {},
   "outputs": [],
   "source": [
    "url = 'https://github.com/rebellon-carina/Capstone---Speech-Emotion-Recognition/raw/master/test_audio/kyle_angry.wav'"
   ]
  },
  {
   "cell_type": "code",
   "execution_count": 28,
   "id": "0ecb2ece",
   "metadata": {},
   "outputs": [
    {
     "name": "stdout",
     "output_type": "stream",
     "text": [
      "WAV:  https://github.com/rebellon-carina/Capstone---Speech-Emotion-Recognition/raw/master/test_audio/kyle_angry.wav\n",
      "Sample Rate: 48000\n"
     ]
    },
    {
     "data": {
      "image/png": "[encoded data removed]",
      "text/plain": [
       "<Figure size 432x288 with 1 Axes>"
      ]
     },
     "metadata": {
      "needs_background": "light"
     },
     "output_type": "display_data"
    }
   ],
   "source": [
    "audio, sfreq = play_librosa(url)"
   ]
  },
  {
   "cell_type": "code",
   "execution_count": 30,
   "id": "7bba3f49",
   "metadata": {},
   "outputs": [
    {
     "data": {
      "text/plain": [
       "array(['happy'], dtype=object)"
      ]
     },
     "execution_count": 30,
     "metadata": {},
     "output_type": "execute_result"
    }
   ],
   "source": [
    "predict(audio, sfreq)"
   ]
  },
  {
   "cell_type": "code",
   "execution_count": null,
   "id": "04962bd3",
   "metadata": {},
   "outputs": [],
   "source": []
  }
 ],
 "metadata": {
  "kernelspec": {
   "display_name": "Python 3",
   "language": "python",
   "name": "python3"
  },
  "language_info": {
   "codemirror_mode": {
    "name": "ipython",
    "version": 3
   },
   "file_extension": ".py",
   "mimetype": "text/x-python",
   "name": "python",
   "nbconvert_exporter": "python",
   "pygments_lexer": "ipython3",
   "version": "3.8.8"
  }
 },
 "nbformat": 4,
 "nbformat_minor": 5
}
